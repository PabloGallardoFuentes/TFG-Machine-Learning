{
 "cells": [
  {
   "cell_type": "markdown",
   "metadata": {},
   "source": [
    "     Este archivo solo se ejecutará si se neceista generar la variable KmVacio si en la empresa no existe historico de la variable"
   ]
  },
  {
   "cell_type": "markdown",
   "metadata": {},
   "source": [
    "**Librerias necesarias para implementar el aprendizaje supervisado**"
   ]
  },
  {
   "cell_type": "code",
   "execution_count": 1,
   "metadata": {},
   "outputs": [],
   "source": [
    "import pandas as pd\n",
    "import numpy as np\n",
    "import matplotlib.pyplot as plt\n",
    "import seaborn as sb\n",
    "from sklearn.cluster import KMeans\n",
    "from sklearn.metrics import pairwise_distances_argmin_min\n",
    "from sklearn.preprocessing import StandardScaler\n",
    "import random\n",
    "import os\n",
    "\n",
    "from mpl_toolkits.mplot3d import Axes3D\n",
    "plt.rcParams['figure.figsize'] = (10, 5)\n",
    "plt.style.use('ggplot')"
   ]
  },
  {
   "cell_type": "markdown",
   "metadata": {},
   "source": [
    "### PARAMETROS MODIFICABLES "
   ]
  },
  {
   "cell_type": "code",
   "execution_count": 2,
   "metadata": {},
   "outputs": [],
   "source": [
    "nombreArchivoGenerado = \"conKMsVacio.csv\"\n",
    "min_km_vacio = 100\n",
    "max_km_vacion = 300"
   ]
  },
  {
   "cell_type": "markdown",
   "metadata": {},
   "source": [
    "### LEER Y FILTRAR"
   ]
  },
  {
   "cell_type": "code",
   "execution_count": 3,
   "metadata": {},
   "outputs": [
    {
     "data": {
      "text/html": [
       "<div>\n",
       "<style scoped>\n",
       "    .dataframe tbody tr th:only-of-type {\n",
       "        vertical-align: middle;\n",
       "    }\n",
       "\n",
       "    .dataframe tbody tr th {\n",
       "        vertical-align: top;\n",
       "    }\n",
       "\n",
       "    .dataframe thead th {\n",
       "        text-align: right;\n",
       "    }\n",
       "</style>\n",
       "<table border=\"1\" class=\"dataframe\">\n",
       "  <thead>\n",
       "    <tr style=\"text-align: right;\">\n",
       "      <th></th>\n",
       "      <th>IDConductor</th>\n",
       "      <th>CodigoInternoPuntoCarga</th>\n",
       "      <th>LatitudPuntoCarga</th>\n",
       "      <th>LongitudPuntoCarga</th>\n",
       "      <th>CodigoInternoPuntoDescarga</th>\n",
       "      <th>LatitudPuntoDescarga</th>\n",
       "      <th>LongitudPuntoDescarga</th>\n",
       "      <th>NumParadas</th>\n",
       "      <th>PorcentajePunto</th>\n",
       "      <th>Retraso</th>\n",
       "    </tr>\n",
       "  </thead>\n",
       "  <tbody>\n",
       "    <tr>\n",
       "      <th>0</th>\n",
       "      <td>Y4446672G</td>\n",
       "      <td>03</td>\n",
       "      <td>41.1996</td>\n",
       "      <td>1.2194</td>\n",
       "      <td>C115205</td>\n",
       "      <td>41.1535</td>\n",
       "      <td>1.2126</td>\n",
       "      <td>750</td>\n",
       "      <td>0.375333</td>\n",
       "      <td>31.541944</td>\n",
       "    </tr>\n",
       "    <tr>\n",
       "      <th>1</th>\n",
       "      <td>Y4446672G</td>\n",
       "      <td>03</td>\n",
       "      <td>41.1996</td>\n",
       "      <td>1.2194</td>\n",
       "      <td>C115205</td>\n",
       "      <td>41.1535</td>\n",
       "      <td>1.2126</td>\n",
       "      <td>750</td>\n",
       "      <td>0.375333</td>\n",
       "      <td>31.919444</td>\n",
       "    </tr>\n",
       "    <tr>\n",
       "      <th>2</th>\n",
       "      <td>46401708J</td>\n",
       "      <td>03</td>\n",
       "      <td>41.1996</td>\n",
       "      <td>1.2194</td>\n",
       "      <td>C115205</td>\n",
       "      <td>41.1535</td>\n",
       "      <td>1.2126</td>\n",
       "      <td>587</td>\n",
       "      <td>0.394714</td>\n",
       "      <td>32.299167</td>\n",
       "    </tr>\n",
       "    <tr>\n",
       "      <th>3</th>\n",
       "      <td>46401708J</td>\n",
       "      <td>03</td>\n",
       "      <td>41.1996</td>\n",
       "      <td>1.2194</td>\n",
       "      <td>C115205</td>\n",
       "      <td>41.1535</td>\n",
       "      <td>1.2126</td>\n",
       "      <td>587</td>\n",
       "      <td>0.394714</td>\n",
       "      <td>31.299167</td>\n",
       "    </tr>\n",
       "    <tr>\n",
       "      <th>4</th>\n",
       "      <td>52069433D</td>\n",
       "      <td>03</td>\n",
       "      <td>41.1996</td>\n",
       "      <td>1.2194</td>\n",
       "      <td>C115205</td>\n",
       "      <td>41.1535</td>\n",
       "      <td>1.2126</td>\n",
       "      <td>908</td>\n",
       "      <td>0.505234</td>\n",
       "      <td>-5.424722</td>\n",
       "    </tr>\n",
       "  </tbody>\n",
       "</table>\n",
       "</div>"
      ],
      "text/plain": [
       "  IDConductor CodigoInternoPuntoCarga  LatitudPuntoCarga  LongitudPuntoCarga  \\\n",
       "0   Y4446672G                      03            41.1996              1.2194   \n",
       "1   Y4446672G                      03            41.1996              1.2194   \n",
       "2   46401708J                      03            41.1996              1.2194   \n",
       "3   46401708J                      03            41.1996              1.2194   \n",
       "4   52069433D                      03            41.1996              1.2194   \n",
       "\n",
       "  CodigoInternoPuntoDescarga  LatitudPuntoDescarga  LongitudPuntoDescarga  \\\n",
       "0                    C115205               41.1535                 1.2126   \n",
       "1                    C115205               41.1535                 1.2126   \n",
       "2                    C115205               41.1535                 1.2126   \n",
       "3                    C115205               41.1535                 1.2126   \n",
       "4                    C115205               41.1535                 1.2126   \n",
       "\n",
       "   NumParadas  PorcentajePunto    Retraso  \n",
       "0         750         0.375333  31.541944  \n",
       "1         750         0.375333  31.919444  \n",
       "2         587         0.394714  32.299167  \n",
       "3         587         0.394714  31.299167  \n",
       "4         908         0.505234  -5.424722  "
      ]
     },
     "execution_count": 3,
     "metadata": {},
     "output_type": "execute_result"
    }
   ],
   "source": [
    "dataframe = pd.read_csv(r\"./recursos/inputML.csv\")\n",
    "dataframe.head()"
   ]
  },
  {
   "cell_type": "code",
   "execution_count": 4,
   "metadata": {},
   "outputs": [
    {
     "data": {
      "text/plain": [
       "(153494, 10)"
      ]
     },
     "execution_count": 4,
     "metadata": {},
     "output_type": "execute_result"
    }
   ],
   "source": [
    "columna = 'Retraso'\n",
    "low_percentile = 1\n",
    "high_percentile = 99\n",
    "\n",
    "lower_threshold = dataframe[columna].quantile(low_percentile / 100)\n",
    "higher_threshold = dataframe[columna].quantile(high_percentile / 100)\n",
    "\n",
    "dataframe = dataframe[(dataframe[columna] >= lower_threshold) & (dataframe[columna] <= higher_threshold)]\n",
    "\n",
    "dataframe.shape"
   ]
  },
  {
   "cell_type": "markdown",
   "metadata": {},
   "source": [
    "### GENERAR KMS VACIO"
   ]
  },
  {
   "cell_type": "code",
   "execution_count": 5,
   "metadata": {},
   "outputs": [
    {
     "data": {
      "text/html": [
       "<div>\n",
       "<style scoped>\n",
       "    .dataframe tbody tr th:only-of-type {\n",
       "        vertical-align: middle;\n",
       "    }\n",
       "\n",
       "    .dataframe tbody tr th {\n",
       "        vertical-align: top;\n",
       "    }\n",
       "\n",
       "    .dataframe thead th {\n",
       "        text-align: right;\n",
       "    }\n",
       "</style>\n",
       "<table border=\"1\" class=\"dataframe\">\n",
       "  <thead>\n",
       "    <tr style=\"text-align: right;\">\n",
       "      <th></th>\n",
       "      <th>IDConductor</th>\n",
       "      <th>CodigoInternoPuntoCarga</th>\n",
       "      <th>LatitudPuntoCarga</th>\n",
       "      <th>LongitudPuntoCarga</th>\n",
       "      <th>CodigoInternoPuntoDescarga</th>\n",
       "      <th>LatitudPuntoDescarga</th>\n",
       "      <th>LongitudPuntoDescarga</th>\n",
       "      <th>NumParadas</th>\n",
       "      <th>PorcentajePunto</th>\n",
       "      <th>Retraso</th>\n",
       "      <th>KmVacio</th>\n",
       "    </tr>\n",
       "  </thead>\n",
       "  <tbody>\n",
       "    <tr>\n",
       "      <th>0</th>\n",
       "      <td>Y4446672G</td>\n",
       "      <td>03</td>\n",
       "      <td>41.1996</td>\n",
       "      <td>1.2194</td>\n",
       "      <td>C115205</td>\n",
       "      <td>41.1535</td>\n",
       "      <td>1.2126</td>\n",
       "      <td>750</td>\n",
       "      <td>0.375333</td>\n",
       "      <td>31.541944</td>\n",
       "      <td>188</td>\n",
       "    </tr>\n",
       "    <tr>\n",
       "      <th>1</th>\n",
       "      <td>Y4446672G</td>\n",
       "      <td>03</td>\n",
       "      <td>41.1996</td>\n",
       "      <td>1.2194</td>\n",
       "      <td>C115205</td>\n",
       "      <td>41.1535</td>\n",
       "      <td>1.2126</td>\n",
       "      <td>750</td>\n",
       "      <td>0.375333</td>\n",
       "      <td>31.919444</td>\n",
       "      <td>139</td>\n",
       "    </tr>\n",
       "    <tr>\n",
       "      <th>2</th>\n",
       "      <td>46401708J</td>\n",
       "      <td>03</td>\n",
       "      <td>41.1996</td>\n",
       "      <td>1.2194</td>\n",
       "      <td>C115205</td>\n",
       "      <td>41.1535</td>\n",
       "      <td>1.2126</td>\n",
       "      <td>587</td>\n",
       "      <td>0.394714</td>\n",
       "      <td>32.299167</td>\n",
       "      <td>131</td>\n",
       "    </tr>\n",
       "    <tr>\n",
       "      <th>3</th>\n",
       "      <td>46401708J</td>\n",
       "      <td>03</td>\n",
       "      <td>41.1996</td>\n",
       "      <td>1.2194</td>\n",
       "      <td>C115205</td>\n",
       "      <td>41.1535</td>\n",
       "      <td>1.2126</td>\n",
       "      <td>587</td>\n",
       "      <td>0.394714</td>\n",
       "      <td>31.299167</td>\n",
       "      <td>191</td>\n",
       "    </tr>\n",
       "    <tr>\n",
       "      <th>4</th>\n",
       "      <td>52069433D</td>\n",
       "      <td>03</td>\n",
       "      <td>41.1996</td>\n",
       "      <td>1.2194</td>\n",
       "      <td>C115205</td>\n",
       "      <td>41.1535</td>\n",
       "      <td>1.2126</td>\n",
       "      <td>908</td>\n",
       "      <td>0.505234</td>\n",
       "      <td>-5.424722</td>\n",
       "      <td>162</td>\n",
       "    </tr>\n",
       "  </tbody>\n",
       "</table>\n",
       "</div>"
      ],
      "text/plain": [
       "  IDConductor CodigoInternoPuntoCarga  LatitudPuntoCarga  LongitudPuntoCarga  \\\n",
       "0   Y4446672G                      03            41.1996              1.2194   \n",
       "1   Y4446672G                      03            41.1996              1.2194   \n",
       "2   46401708J                      03            41.1996              1.2194   \n",
       "3   46401708J                      03            41.1996              1.2194   \n",
       "4   52069433D                      03            41.1996              1.2194   \n",
       "\n",
       "  CodigoInternoPuntoDescarga  LatitudPuntoDescarga  LongitudPuntoDescarga  \\\n",
       "0                    C115205               41.1535                 1.2126   \n",
       "1                    C115205               41.1535                 1.2126   \n",
       "2                    C115205               41.1535                 1.2126   \n",
       "3                    C115205               41.1535                 1.2126   \n",
       "4                    C115205               41.1535                 1.2126   \n",
       "\n",
       "   NumParadas  PorcentajePunto    Retraso  KmVacio  \n",
       "0         750         0.375333  31.541944      188  \n",
       "1         750         0.375333  31.919444      139  \n",
       "2         587         0.394714  32.299167      131  \n",
       "3         587         0.394714  31.299167      191  \n",
       "4         908         0.505234  -5.424722      162  "
      ]
     },
     "execution_count": 5,
     "metadata": {},
     "output_type": "execute_result"
    }
   ],
   "source": [
    "nuevoSet = pd.DataFrame(columns=dataframe.columns)\n",
    "nuevoSet = dataframe.copy()\n",
    "arrayKmVacio = []\n",
    "for _ in range(len(dataframe)):\n",
    "    kmVacio = random.randint(min_km_vacio, max_km_vacion)\n",
    "    arrayKmVacio.append(kmVacio)\n",
    "nuevoSet['KmVacio'] = arrayKmVacio\n",
    "\n",
    "nuevoSet.head()"
   ]
  },
  {
   "cell_type": "markdown",
   "metadata": {},
   "source": [
    "### SOBREESCRIBIR EL ARCHIVO CSV SALIDA"
   ]
  },
  {
   "cell_type": "code",
   "execution_count": 6,
   "metadata": {},
   "outputs": [
    {
     "name": "stdout",
     "output_type": "stream",
     "text": [
      "El archvivo c:\\Users\\pablo.gallardo\\Desktop\\final\\codigo\\gitHub/recursos/conKMsVacio.csv ya existe\n"
     ]
    }
   ],
   "source": [
    "# def generarKmVacio():\n",
    "pathArchivoAGenerar = os.getcwd() + \"/recursos/\" + nombreArchivoGenerado\n",
    "\n",
    "if(os.path.exists(pathArchivoAGenerar)):\n",
    "        print(\"El archvivo \" + pathArchivoAGenerar +\" ya existe\")\n",
    "        respuesta = input(\"Quiere sobreescribir el archivo (s/n)\")\n",
    "        if (respuesta == 's'):\n",
    "            nuevoSet.to_csv(pathArchivoAGenerar, index=False)\n",
    "else:\n",
    "        nuevoSet.to_csv(pathArchivoAGenerar, index=False)\n",
    "        print(\"El archivo \" + pathArchivoAGenerar + \" fue creado\")"
   ]
  }
 ],
 "metadata": {
  "kernelspec": {
   "display_name": "Python 3",
   "language": "python",
   "name": "python3"
  },
  "language_info": {
   "codemirror_mode": {
    "name": "ipython",
    "version": 3
   },
   "file_extension": ".py",
   "mimetype": "text/x-python",
   "name": "python",
   "nbconvert_exporter": "python",
   "pygments_lexer": "ipython3",
   "version": "3.10.11"
  }
 },
 "nbformat": 4,
 "nbformat_minor": 2
}
